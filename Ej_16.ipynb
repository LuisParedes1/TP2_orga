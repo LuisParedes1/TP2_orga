{
 "cells": [
  {
   "cell_type": "markdown",
   "id": "9f0c4459",
   "metadata": {},
   "source": [
    "# Pregunta 16\n",
    "\n",
    "10 categorías que tienen la menor cantidad de contenido anónimo publicado. "
   ]
  },
  {
   "cell_type": "code",
   "execution_count": 1,
   "id": "7ce9eaf1",
   "metadata": {},
   "outputs": [],
   "source": [
    "from pyspark.sql import *\n",
    "from pyspark.sql.functions import *\n",
    "from pyspark import SparkContext\n",
    "from pyspark.sql import SQLContext\n",
    "import pandas as pd\n",
    "\n",
    "import os\n",
    "os.environ[\"JAVA_HOME\"] = \"/usr/lib/jvm/java-8-openjdk-amd64\""
   ]
  },
  {
   "cell_type": "code",
   "execution_count": 2,
   "id": "ddc0fc86",
   "metadata": {},
   "outputs": [
    {
     "name": "stderr",
     "output_type": "stream",
     "text": [
      "21/10/29 19:19:36 WARN Utils: Your hostname, Ideapad3 resolves to a loopback address: 127.0.1.1; using 192.168.0.237 instead (on interface wlp0s20f3)\n",
      "21/10/29 19:19:36 WARN Utils: Set SPARK_LOCAL_IP if you need to bind to another address\n",
      "Using Spark's default log4j profile: org/apache/spark/log4j-defaults.properties\n",
      "Setting default log level to \"WARN\".\n",
      "To adjust logging level use sc.setLogLevel(newLevel). For SparkR, use setLogLevel(newLevel).\n",
      "21/10/29 19:19:36 WARN NativeCodeLoader: Unable to load native-hadoop library for your platform... using builtin-java classes where applicable\n",
      "/home/luis/anaconda3/envs/organizacionDatos/lib/python3.9/site-packages/pyspark/sql/context.py:77: FutureWarning: Deprecated in 3.0.0. Use SparkSession.builder.getOrCreate() instead.\n",
      "  warnings.warn(\n"
     ]
    }
   ],
   "source": [
    "# create the Spark Session\n",
    "spark = SparkSession.builder.getOrCreate()\n",
    "\n",
    "# create the Spark Context\n",
    "sc = spark.sparkContext\n",
    "\n",
    "sqlContext = SQLContext(sc)"
   ]
  },
  {
   "cell_type": "code",
   "execution_count": 3,
   "id": "4d3b98b0",
   "metadata": {},
   "outputs": [
    {
     "name": "stderr",
     "output_type": "stream",
     "text": [
      "                                                                                \r"
     ]
    }
   ],
   "source": [
    "wiki_contents = sqlContext.read.csv('./Wikipedia_dataset_2c2021/contents.csv', \n",
    "                                    header=True, inferSchema=True, multiLine=True)\n",
    "rdd_wiki_contents = wiki_contents.rdd\n",
    "\n",
    "categorylinks = sqlContext.read.csv('./Wikipedia_dataset_2c2021/categorylinks.csv', \n",
    "                                    header=True, inferSchema=True, multiLine=True)\n",
    "rdd_categorylinks = categorylinks.rdd"
   ]
  },
  {
   "cell_type": "markdown",
   "id": "493e8d01",
   "metadata": {},
   "source": [
    "## Filtro los contenidos anonimo publicado"
   ]
  },
  {
   "cell_type": "code",
   "execution_count": 4,
   "id": "f96315e9",
   "metadata": {},
   "outputs": [],
   "source": [
    "rdd_anonimo = rdd_wiki_contents.filter(lambda x: x.revisor_id == None and x.revisor_ip != None)"
   ]
  },
  {
   "cell_type": "markdown",
   "id": "fa4cdba2",
   "metadata": {},
   "source": [
    "## Creo RDD del tipo (K,V) \n",
    "\n",
    "Creo RDD del tipo (clave,valor) con los ID de las publicaciones anonimas para intersectarlos con el RDD de categorias.\n",
    "\n",
    "Nota:\n",
    "\n",
    "`cl_from`: ID del contenido\n",
    "\n",
    "`cl_to`: Categoría a la que pertenece el contenido"
   ]
  },
  {
   "cell_type": "code",
   "execution_count": 5,
   "id": "c2eef53c",
   "metadata": {},
   "outputs": [],
   "source": [
    "contenido_anonimo = rdd_anonimo.map(lambda x: (x.id, 1))"
   ]
  },
  {
   "cell_type": "code",
   "execution_count": 6,
   "id": "04d15e80",
   "metadata": {},
   "outputs": [],
   "source": [
    "categorylinks_contenido = rdd_categorylinks.map(lambda x: (x.cl_from,x.cl_to))"
   ]
  },
  {
   "cell_type": "markdown",
   "id": "543f6892",
   "metadata": {},
   "source": [
    "## Intersecto los RDD para obtener las categorias con contenido anonimo\n",
    "\n",
    "Los articulos pueden tener distintas categorias, entonces en la interseccion habra una fila por cada categoria que tenga el articulo"
   ]
  },
  {
   "cell_type": "code",
   "execution_count": 7,
   "id": "fbe74d58",
   "metadata": {},
   "outputs": [],
   "source": [
    "categorias_anonimas = contenido_anonimo.join(categorylinks_contenido).cache()"
   ]
  },
  {
   "cell_type": "markdown",
   "id": "576d0487",
   "metadata": {},
   "source": [
    "### Vericacion de datos\n",
    "\n",
    "Verifico que los articulos no tengan categorias repetidas.\n",
    "\n",
    "Por ejemplo, para la publicacion con ID 1565, no debe tener 2 veces repetida la categoria 'Normas_IEC'.\n",
    "\n",
    "Para esto se debe cumplir que el numero total de categorias para contenido anonimo debe ser igual al numero total de categorias unicas para el contenido anonimo."
   ]
  },
  {
   "cell_type": "code",
   "execution_count": 8,
   "id": "c584b8f8",
   "metadata": {},
   "outputs": [
    {
     "name": "stderr",
     "output_type": "stream",
     "text": [
      "                                                                                \r"
     ]
    },
    {
     "data": {
      "text/plain": [
       "1038768"
      ]
     },
     "execution_count": 8,
     "metadata": {},
     "output_type": "execute_result"
    }
   ],
   "source": [
    "categorias_anonimas.count()"
   ]
  },
  {
   "cell_type": "code",
   "execution_count": 9,
   "id": "a7b50120",
   "metadata": {},
   "outputs": [
    {
     "name": "stderr",
     "output_type": "stream",
     "text": [
      "                                                                                \r"
     ]
    },
    {
     "data": {
      "text/plain": [
       "1038768"
      ]
     },
     "execution_count": 9,
     "metadata": {},
     "output_type": "execute_result"
    }
   ],
   "source": [
    "categorias_anonimas.distinct().count()"
   ]
  },
  {
   "cell_type": "markdown",
   "id": "d366844e",
   "metadata": {},
   "source": [
    "## Busco 10 categorías que tienen la menor cantidad de contenido anónimo publicado. \n",
    "\n",
    "Cuento la cantidad de veces que se repite la categoria (que representa la cantidad de articulos anonimos con esta categoria) y las ordeno de menor a mayor."
   ]
  },
  {
   "cell_type": "code",
   "execution_count": 10,
   "id": "1251d79b",
   "metadata": {},
   "outputs": [
    {
     "name": "stderr",
     "output_type": "stream",
     "text": [
      "                                                                                \r"
     ]
    },
    {
     "data": {
      "text/plain": [
       "[('Historiadores_de_la_provincia_de_Valladolid', 1),\n",
       " ('Atletas_de_Cuba_en_los_Juegos_OlÃ\\xadmpicos_de_Barcelona_1992', 1),\n",
       " ('Nacidos_en_el_cantÃ³n_de_Berna', 1),\n",
       " ('Presidentes_de_Quito', 1),\n",
       " ('Las_aventuras_del_capitÃ¡n_Alatriste', 1),\n",
       " ('Cliff_Richard', 1),\n",
       " ('Equipos_de_FÃ³rmula_3', 1),\n",
       " ('Vuelta_a_Suiza', 1),\n",
       " ('Equipos_de_voleibol_de_AndalucÃ\\xada', 1),\n",
       " ('Metro_de_Brasilia', 1)]"
      ]
     },
     "execution_count": 10,
     "metadata": {},
     "output_type": "execute_result"
    }
   ],
   "source": [
    "categorias_anonimas.map(lambda x: (x[1][1],1)).reduceByKey(lambda x,y: x+y).takeOrdered(10, lambda x: x[1])"
   ]
  }
 ],
 "metadata": {
  "kernelspec": {
   "display_name": "organizacionDatos",
   "language": "python",
   "name": "organizaciondatos"
  },
  "language_info": {
   "codemirror_mode": {
    "name": "ipython",
    "version": 3
   },
   "file_extension": ".py",
   "mimetype": "text/x-python",
   "name": "python",
   "nbconvert_exporter": "python",
   "pygments_lexer": "ipython3",
   "version": "3.9.6"
  },
  "toc": {
   "base_numbering": 1,
   "nav_menu": {},
   "number_sections": true,
   "sideBar": true,
   "skip_h1_title": false,
   "title_cell": "Table of Contents",
   "title_sidebar": "Contents",
   "toc_cell": false,
   "toc_position": {},
   "toc_section_display": true,
   "toc_window_display": false
  }
 },
 "nbformat": 4,
 "nbformat_minor": 5
}
