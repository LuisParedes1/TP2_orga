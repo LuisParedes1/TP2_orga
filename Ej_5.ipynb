{
 "cells": [
  {
   "cell_type": "markdown",
   "id": "e4319b67",
   "metadata": {},
   "source": [
    "# Pregunta 5 \n",
    "Considerando el `pagelink_sample.csv` representar como un grafo en Spark los contenidos de wikipedia (considerando los contenidos como nodos y los links como aristas) como una lista de adyacencia y mostrar un recorrido en la estructura."
   ]
  },
  {
   "cell_type": "code",
   "execution_count": 1,
   "id": "c5ddf1e3",
   "metadata": {},
   "outputs": [],
   "source": [
    "from pyspark.sql import *\n",
    "from pyspark.sql.functions import *\n",
    "from pyspark import SparkContext\n",
    "from pyspark.sql import SQLContext\n",
    "import pandas as pd\n",
    "\n",
    "import os\n",
    "os.environ[\"JAVA_HOME\"] = \"/usr/lib/jvm/java-8-openjdk-amd64\""
   ]
  },
  {
   "cell_type": "code",
   "execution_count": 2,
   "id": "7f975785",
   "metadata": {},
   "outputs": [
    {
     "name": "stderr",
     "output_type": "stream",
     "text": [
      "21/10/31 17:27:39 WARN Utils: Your hostname, Ideapad3 resolves to a loopback address: 127.0.1.1; using 192.168.0.237 instead (on interface wlp0s20f3)\n",
      "21/10/31 17:27:39 WARN Utils: Set SPARK_LOCAL_IP if you need to bind to another address\n",
      "Using Spark's default log4j profile: org/apache/spark/log4j-defaults.properties\n",
      "Setting default log level to \"WARN\".\n",
      "To adjust logging level use sc.setLogLevel(newLevel). For SparkR, use setLogLevel(newLevel).\n",
      "21/10/31 17:27:41 WARN NativeCodeLoader: Unable to load native-hadoop library for your platform... using builtin-java classes where applicable\n",
      "/home/luis/anaconda3/envs/organizacionDatos/lib/python3.9/site-packages/pyspark/sql/context.py:77: FutureWarning: Deprecated in 3.0.0. Use SparkSession.builder.getOrCreate() instead.\n",
      "  warnings.warn(\n"
     ]
    }
   ],
   "source": [
    "# create the Spark Session\n",
    "spark = SparkSession.builder.getOrCreate()\n",
    "\n",
    "# create the Spark Context\n",
    "sc = spark.sparkContext\n",
    "\n",
    "sqlContext = SQLContext(sc)"
   ]
  },
  {
   "cell_type": "code",
   "execution_count": 3,
   "id": "871ba88c",
   "metadata": {},
   "outputs": [
    {
     "name": "stderr",
     "output_type": "stream",
     "text": [
      "                                                                                \r"
     ]
    }
   ],
   "source": [
    "contents = sqlContext.read.csv('./Wikipedia_dataset_2c2021/contents.csv', \n",
    "                                    header=True, inferSchema=True, multiLine=True)\n",
    "\n",
    "rdd_contents = contents.rdd\n",
    "\n",
    "pagelinks_sample = sqlContext.read.csv('./Wikipedia_dataset_2c2021/pagelinks_sample.csv', \n",
    "                                    header=True, inferSchema=True, multiLine=True)\n",
    "rdd_pagelinks_sample = pagelinks_sample.rdd"
   ]
  },
  {
   "cell_type": "markdown",
   "id": "53e0d16b",
   "metadata": {},
   "source": [
    "## Busco RDD del estilo (K,V)\n",
    "\n",
    "Extraigo la informacion que necesito de cada dataset y lo expreso en tuplas clave valor."
   ]
  },
  {
   "cell_type": "code",
   "execution_count": 4,
   "id": "27e5f6ca",
   "metadata": {},
   "outputs": [],
   "source": [
    "rdd_contents = rdd_contents.map(lambda x: (x.title, x.id))"
   ]
  },
  {
   "cell_type": "code",
   "execution_count": 5,
   "id": "c5b2346a",
   "metadata": {},
   "outputs": [],
   "source": [
    "rdd_pagelinks_sample = rdd_pagelinks_sample.map(lambda x: (x.pl_title, x.pl_from) )"
   ]
  },
  {
   "cell_type": "markdown",
   "id": "6b5b7318",
   "metadata": {},
   "source": [
    "## Trabajo con los contenidos que estan en contents.\n",
    "\n",
    "\n",
    "Intersecto los titulos que estan tanto en `pagelinks_sample.csv` como en `contents.csv`\n",
    "\n",
    "rdd_wiki tendra tuplas de la forma `(titulo, id_contenido_que_lo_referencia, id_contenido)` \\\n",
    "o equivalentemente `(pl_title, pl_from, id)`"
   ]
  },
  {
   "cell_type": "code",
   "execution_count": 6,
   "id": "834cf335",
   "metadata": {},
   "outputs": [],
   "source": [
    "rdd_wiki = rdd_pagelinks_sample.join(rdd_contents)"
   ]
  },
  {
   "cell_type": "markdown",
   "id": "cd8abd14",
   "metadata": {},
   "source": [
    "## Agrupo por nodo los distintos enlaces internos que tienen\n",
    "\n",
    "Obtengo una lista adyacente del estilo \n",
    "\n",
    "`[ (Nodo_1, [ (titulo_1,id_1), (titulo_2,id_2) ...  ]) , (Nodo_2, [ ... ]) ]`\n",
    "\n",
    "Donde (titulo,id) representa cada arista que tiene el nodo."
   ]
  },
  {
   "cell_type": "code",
   "execution_count": 7,
   "id": "eaad7ef6",
   "metadata": {},
   "outputs": [],
   "source": [
    "lista_adyacente = rdd_wiki.map(lambda x: ( x[1][0], (x[0],x[1][1]) ) )\\\n",
    "                    .groupByKey().map(lambda x: (x[0], list(x[1])))"
   ]
  },
  {
   "cell_type": "markdown",
   "id": "22095650",
   "metadata": {},
   "source": [
    "# Muestro algunos elementos de la lista de Adyacencia"
   ]
  },
  {
   "cell_type": "code",
   "execution_count": 8,
   "id": "37d61f63",
   "metadata": {},
   "outputs": [
    {
     "name": "stderr",
     "output_type": "stream",
     "text": [
      "                                                                                \r"
     ]
    },
    {
     "data": {
      "text/plain": [
       "[(9634840,\n",
       "  [('Interdisciplinariedad', '836987'),\n",
       "   ('Dibujo', '1574475'),\n",
       "   ('Londres', '10256'),\n",
       "   ('Oporto', '55368'),\n",
       "   ('Audiovisual', '67733'),\n",
       "   ('Investigador', '414362'),\n",
       "   ('1976', '5234'),\n",
       "   ('ORCID', '7229853'),\n",
       "   ('PALOP', '341986')]),\n",
       " (5843508,\n",
       "  [('2010', '21612'),\n",
       "   ('Chileno', '58872'),\n",
       "   ('Soccerway', '9468272'),\n",
       "   ('Wikidata', '5291797'),\n",
       "   ('2011', '866581'),\n",
       "   ('Metro', '1784'),\n",
       "   ('1985', '3080'),\n",
       "   ('2018', '2374070'),\n",
       "   ('Chile', '276780')]),\n",
       " (3391328,\n",
       "  [('2010', '21612'), ('Raystorm', '1572894'), ('Coldplay', '3344550')]),\n",
       " (4999398,\n",
       "  [('2010', '21612'),\n",
       "   ('Stanitsa', '351982'),\n",
       "   ('Msnm', '8470660'),\n",
       "   ('1937', '9979'),\n",
       "   ('Volgogrado', '40631'),\n",
       "   ('1979', '3443'),\n",
       "   ('Krasnodar', '429377'),\n",
       "   ('Wikidata', '5291797'),\n",
       "   ('Rusia', '2400685'),\n",
       "   ('1934', '7146'),\n",
       "   ('1970', '5240'),\n",
       "   ('Altitud', '30455'),\n",
       "   ('1953', '7718'),\n",
       "   ('1966', '5278'),\n",
       "   ('Rostov', '688959'),\n",
       "   ('1989', '5205'),\n",
       "   ('1963', '5281'),\n",
       "   ('OKATO', '5811731')]),\n",
       " (7238236,\n",
       "  [('2010', '21612'),\n",
       "   ('2015', '866600'),\n",
       "   ('1995', '5182'),\n",
       "   ('Alcalde', '382046'),\n",
       "   ('2007', '21608'),\n",
       "   ('2014', '866596'),\n",
       "   ('2011', '866581'),\n",
       "   ('1998', '5177'),\n",
       "   ('2006', '21607'),\n",
       "   ('2018', '2374070')]),\n",
       " (2547134,\n",
       "  [('2010', '21612'),\n",
       "   ('Kuwait', '10834'),\n",
       "   ('Transfermarkt', '7314479'),\n",
       "   ('Portugal', '6396'),\n",
       "   ('FootballDatabase', '8782326'),\n",
       "   ('2012', '866572'),\n",
       "   ('2015', '866600'),\n",
       "   ('Brasil', '410'),\n",
       "   ('2004', '10581'),\n",
       "   ('2007', '21608'),\n",
       "   ('2014', '866596'),\n",
       "   ('2011', '866581'),\n",
       "   ('Metro', '1784'),\n",
       "   ('Futbolista', '106725'),\n",
       "   ('1985', '3080'),\n",
       "   ('2009', '21611'),\n",
       "   ('2008', '21609'),\n",
       "   ('Mediocampista', '346316')]),\n",
       " (772454,\n",
       "  [('2010', '21612'),\n",
       "   ('1991', '5186'),\n",
       "   ('Finanzas', '142062'),\n",
       "   ('FF', '301711'),\n",
       "   ('Euro', '1013'),\n",
       "   ('Polonia', '4181'),\n",
       "   ('Argentina', '10'),\n",
       "   ('Wikidata', '5291797'),\n",
       "   ('Luxemburgo', '10990'),\n",
       "   ('2007', '21608'),\n",
       "   ('1978', '3028'),\n",
       "   ('Australia', '2400700'),\n",
       "   ('ATTAC', '3000030'),\n",
       "   ('Colombia', '456'),\n",
       "   ('Francia', '1173'),\n",
       "   ('UNICEF', '5294'),\n",
       "   ('Seguros', '675455'),\n",
       "   ('Renting', '4985440'),\n",
       "   ('Democracia', '5661')]),\n",
       " (9695288,\n",
       "  [('Quimioterapia', '38491'),\n",
       "   ('Pubertad', '60525'),\n",
       "   ('Cromatina', '8982'),\n",
       "   ('Saltamontes', '193304'),\n",
       "   ('Eukaryota', '3252'),\n",
       "   ('Testosterona', '10660'),\n",
       "   ('Cilio', '138985'),\n",
       "   ('Apoptosis', '8359'),\n",
       "   ('Meiosis', '1565484'),\n",
       "   ('ISBN', '48883'),\n",
       "   ('ISSN', '8855172'),\n",
       "   ('Anafase', '45563'),\n",
       "   ('Platyhelminthes', '334745'),\n",
       "   ('Espermateca', '282942'),\n",
       "   ('Radioterapia', '11669'),\n",
       "   ('Descendencia', '4147415'),\n",
       "   ('Centriolo', '70963'),\n",
       "   ('BRCA1', '1328624'),\n",
       "   ('Gametocito', '1448180'),\n",
       "   ('Bibcode', '3185893'),\n",
       "   ('Masculino', '110740'),\n",
       "   ('Espermatozoide', '9005'),\n",
       "   ('Profase', '10163'),\n",
       "   ('Hermafroditismo', '36889'),\n",
       "   ('Cigosidad', '9029556'),\n",
       "   ('Paquiteno', '5372838'),\n",
       "   ('Gameto', '1353'),\n",
       "   ('Mitosis', '4834129')]),\n",
       " (1855378,\n",
       "  [('Disuria', '31479'),\n",
       "   ('CIE-9-MC', '521442'),\n",
       "   ('Iodo', '33655'),\n",
       "   ('Diabetes', '4105026'),\n",
       "   ('Bacteria', '428'),\n",
       "   ('Cicatriz', '103382'),\n",
       "   ('Inmunodeprimido', '3952530'),\n",
       "   ('Micosis', '413828'),\n",
       "   ('Sepsis', '8620'),\n",
       "   ('Leucocito', '26067'),\n",
       "   ('Traumatismo', '358652'),\n",
       "   ('Wikidata', '5291797'),\n",
       "   ('Bacteriuria', '192025'),\n",
       "   ('Proteinuria', '137469'),\n",
       "   ('ISBN', '48883'),\n",
       "   ('Salmonella', '168640'),\n",
       "   ('Fiebre', '27970'),\n",
       "   ('Polaquiuria', '16842'),\n",
       "   ('Litiasis', '40819'),\n",
       "   ('Microorganismo', '16884'),\n",
       "   ('Candida', '767144'),\n",
       "   ('Antibiograma', '2326672'),\n",
       "   ('EMedicine', '1414859'),\n",
       "   ('Urotelio', '9546234'),\n",
       "   ('Hidronefrosis', '342849'),\n",
       "   ('CD68', '1971026'),\n",
       "   ('Neoplasia', '1204334'),\n",
       "   ('Embarazo', '6259434'),\n",
       "   ('Prevalencia', '37857'),\n",
       "   ('Hematuria', '60402')]),\n",
       " (9787104,\n",
       "  [('Irlanda', '63104'),\n",
       "   ('Groupama-FDJ', '147128'),\n",
       "   ('Portugal', '6396'),\n",
       "   ('Eritrea', '10126'),\n",
       "   ('Alemania', '252'),\n",
       "   ('Luxemburgo', '10990'),\n",
       "   ('Italia', '3544'),\n",
       "   ('Rusia', '2400685'),\n",
       "   ('Australia', '2400700'),\n",
       "   ('Colombia', '456'),\n",
       "   ('Suiza', '2689'),\n",
       "   ('Trek-Segafredo', '4331753'),\n",
       "   ('Biot', '1362839'),\n",
       "   ('Burgos-BH', '2533505'),\n",
       "   ('2021', '21623')])]"
      ]
     },
     "execution_count": 8,
     "metadata": {},
     "output_type": "execute_result"
    }
   ],
   "source": [
    "lista_adyacente.take(10)"
   ]
  },
  {
   "cell_type": "markdown",
   "id": "a20a7764",
   "metadata": {},
   "source": [
    "# Recorro la lista de adyacencia\n",
    "\n",
    "Para recorrer el grafo tomaremos un arista cualquiera. \n",
    "\n",
    "Cada nodo tiene una lista de aristas, por ende me voy por la arista `n = i % cant_aristas`, \\\n",
    "tal que el ID lo obtengo como `nodo_hijo = lista_adyacente[1][n][1]`"
   ]
  },
  {
   "cell_type": "code",
   "execution_count": 12,
   "id": "84e56aea",
   "metadata": {},
   "outputs": [
    {
     "name": "stderr",
     "output_type": "stream",
     "text": [
      "                                                                                \r"
     ]
    },
    {
     "name": "stdout",
     "output_type": "stream",
     "text": [
      "Estamos el nodo: 705024, y vamos al nodo 1614013 de titulo: Chessman\n"
     ]
    },
    {
     "name": "stderr",
     "output_type": "stream",
     "text": [
      "                                                                                \r"
     ]
    },
    {
     "name": "stdout",
     "output_type": "stream",
     "text": [
      "Estamos el nodo: 1614013, y vamos al nodo 4695251 de titulo: Konnan\n"
     ]
    },
    {
     "name": "stderr",
     "output_type": "stream",
     "text": [
      "                                                                                \r"
     ]
    },
    {
     "name": "stdout",
     "output_type": "stream",
     "text": [
      "Estamos el nodo: 4695251, y vamos al nodo 866572 de titulo: 2012\n"
     ]
    },
    {
     "name": "stderr",
     "output_type": "stream",
     "text": [
      "                                                                                \r"
     ]
    },
    {
     "name": "stdout",
     "output_type": "stream",
     "text": [
      "Estamos el nodo: 866572, y vamos al nodo 6396 de titulo: Portugal\n"
     ]
    },
    {
     "name": "stderr",
     "output_type": "stream",
     "text": [
      "\r",
      "[Stage 78:>                                                         (0 + 1) / 1]\r"
     ]
    },
    {
     "name": "stdout",
     "output_type": "stream",
     "text": [
      "Estamos el nodo: 6396, y vamos al nodo 76158 de titulo: Espiritismo\n"
     ]
    },
    {
     "name": "stderr",
     "output_type": "stream",
     "text": [
      "\r",
      "                                                                                \r"
     ]
    }
   ],
   "source": [
    "nodo_origen = lista_adyacente.first()\n",
    "\n",
    "for i in range(0,5):\n",
    "    \n",
    "    id_nodo_origen = nodo_origen[0]\n",
    "    cant_aristas = len(nodo_origen[1])\n",
    "    \n",
    "    id_nodo_hijo = int(nodo_origen[1][i%cant_aristas][1])\n",
    "    titulo_nodo_hijo = nodo_origen[1][i%cant_aristas][0]\n",
    "    \n",
    "    nodo_hijo = lista_adyacente.filter(lambda x: x[0] == id_nodo_hijo).first()\n",
    "    \n",
    "    print(\n",
    "    \"\"\"Estamos el nodo: {nodo_orig}, y vamos al nodo {nodo_hijo} de titulo: {titulo}\"\"\".format(\n",
    "        nodo_orig=id_nodo_origen, nodo_hijo=id_nodo_hijo, titulo=titulo_nodo_hijo ) \n",
    "    )\n",
    "    \n",
    "    nodo_origen = nodo_hijo"
   ]
  },
  {
   "cell_type": "markdown",
   "id": "86b8c9d7",
   "metadata": {},
   "source": [
    "# Conclusion\n",
    "\n",
    "Logramos representar cada nodo como una tupla  `(Nodo, [ Lista de vecinos ])`, esto representa un nodo del grafo junto con sus distintas aristas vecinas.\n",
    "\n",
    "Luego para recorrerla, seguimos un camino aleatorio, es decir, al pararnos en un nodo con `cantidad_aristas` finita y nos vamos por \\\n",
    "la arista `n = i % cantidad_aristas`.\n",
    "\n",
    "Este recorrido tiene como ventaja evitar entrar en un ciclo infinito en caso de que la primera arista sea si misma, porque en la siguiente iteracion pasa por la arista que le sigue."
   ]
  }
 ],
 "metadata": {
  "kernelspec": {
   "display_name": "organizacionDatos",
   "language": "python",
   "name": "organizaciondatos"
  },
  "language_info": {
   "codemirror_mode": {
    "name": "ipython",
    "version": 3
   },
   "file_extension": ".py",
   "mimetype": "text/x-python",
   "name": "python",
   "nbconvert_exporter": "python",
   "pygments_lexer": "ipython3",
   "version": "3.9.6"
  },
  "toc": {
   "base_numbering": 1,
   "nav_menu": {},
   "number_sections": true,
   "sideBar": true,
   "skip_h1_title": false,
   "title_cell": "Table of Contents",
   "title_sidebar": "Contents",
   "toc_cell": false,
   "toc_position": {},
   "toc_section_display": true,
   "toc_window_display": false
  }
 },
 "nbformat": 4,
 "nbformat_minor": 5
}
