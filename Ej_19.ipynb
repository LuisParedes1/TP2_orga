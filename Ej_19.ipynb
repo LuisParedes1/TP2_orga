{
 "cells": [
  {
   "cell_type": "markdown",
   "id": "a9c5179e",
   "metadata": {},
   "source": [
    "# Ej 19\n",
    "\n",
    "Cantidad de contenido por planeta fuera de la tierra en la Wikipedia."
   ]
  },
  {
   "cell_type": "code",
   "execution_count": 1,
   "id": "5e039b94",
   "metadata": {},
   "outputs": [],
   "source": [
    "    from pyspark.sql import *\n",
    "    from pyspark.sql.functions import *\n",
    "    from pyspark import SparkContext\n",
    "    from pyspark.sql import SQLContext\n",
    "    import pandas as pd\n",
    "\n",
    "    import os\n",
    "    os.environ[\"JAVA_HOME\"] = \"/usr/lib/jvm/java-8-openjdk-amd64\""
   ]
  },
  {
   "cell_type": "code",
   "execution_count": 2,
   "id": "2df907b1",
   "metadata": {},
   "outputs": [
    {
     "name": "stderr",
     "output_type": "stream",
     "text": [
      "21/10/31 20:12:47 WARN Utils: Your hostname, Ideapad3 resolves to a loopback address: 127.0.1.1; using 192.168.0.237 instead (on interface wlp0s20f3)\n",
      "21/10/31 20:12:47 WARN Utils: Set SPARK_LOCAL_IP if you need to bind to another address\n",
      "Using Spark's default log4j profile: org/apache/spark/log4j-defaults.properties\n",
      "Setting default log level to \"WARN\".\n",
      "To adjust logging level use sc.setLogLevel(newLevel). For SparkR, use setLogLevel(newLevel).\n",
      "21/10/31 20:12:48 WARN NativeCodeLoader: Unable to load native-hadoop library for your platform... using builtin-java classes where applicable\n",
      "21/10/31 20:12:49 WARN Utils: Service 'SparkUI' could not bind on port 4040. Attempting port 4041.\n",
      "/home/luis/anaconda3/envs/organizacionDatos/lib/python3.9/site-packages/pyspark/sql/context.py:77: FutureWarning: Deprecated in 3.0.0. Use SparkSession.builder.getOrCreate() instead.\n",
      "  warnings.warn(\n"
     ]
    }
   ],
   "source": [
    "# create the Spark Session\n",
    "spark = SparkSession.builder.getOrCreate()\n",
    "\n",
    "# create the Spark Context\n",
    "sc = spark.sparkContext\n",
    "\n",
    "sqlContext = SQLContext(sc)"
   ]
  },
  {
   "cell_type": "code",
   "execution_count": 3,
   "id": "96a5f113",
   "metadata": {},
   "outputs": [
    {
     "name": "stderr",
     "output_type": "stream",
     "text": [
      "                                                                                \r"
     ]
    }
   ],
   "source": [
    "geo_tags = sqlContext.read.csv('./Wikipedia_dataset_2c2021/geo_tags.csv', \n",
    "                                    header=True, inferSchema=True, multiLine=True)\n",
    "\n",
    "geo_tags_rdd = geo_tags.rdd"
   ]
  },
  {
   "cell_type": "markdown",
   "id": "50b63299",
   "metadata": {},
   "source": [
    "## Limpio los datos\n",
    "\n",
    "Me quedo con los registros que no tengan `None` en el campo `gt_globe`."
   ]
  },
  {
   "cell_type": "code",
   "execution_count": 4,
   "id": "878e32ac",
   "metadata": {},
   "outputs": [],
   "source": [
    "geo_tags_rdd = geo_tags_rdd.filter(lambda x: x.gt_globe != 'None')"
   ]
  },
  {
   "cell_type": "code",
   "execution_count": 5,
   "id": "afb51fd2",
   "metadata": {},
   "outputs": [
    {
     "name": "stderr",
     "output_type": "stream",
     "text": [
      "                                                                                \r"
     ]
    },
    {
     "data": {
      "text/plain": [
       "[Row(gt_id=158041, gt_page_id=4328020, gt_globe='earth', gt_primary=0, gt_lat=41.50749969, gt_lon=-5.81750011, gt_dim=1000, gt_type=None, gt_name=None, gt_country=None, gt_region=None),\n",
       " Row(gt_id=5844377, gt_page_id=4670424, gt_globe='earth', gt_primary=0, gt_lat=13.73799992, gt_lon=-89.29199982, gt_dim=10000, gt_type='city', gt_name=None, gt_country=None, gt_region=None),\n",
       " Row(gt_id=5844381, gt_page_id=4670424, gt_globe='earth', gt_primary=0, gt_lat=13.70199966, gt_lon=-89.20800018, gt_dim=10000, gt_type='city', gt_name=None, gt_country=None, gt_region=None),\n",
       " Row(gt_id=5844383, gt_page_id=4670424, gt_globe='earth', gt_primary=0, gt_lat=13.39999962, gt_lon=-89.75, gt_dim=10000, gt_type='city', gt_name=None, gt_country=None, gt_region=None),\n",
       " Row(gt_id=5844388, gt_page_id=4670424, gt_globe='earth', gt_primary=0, gt_lat=12.85000038, gt_lon=-88.0, gt_dim=10000, gt_type='city', gt_name=None, gt_country=None, gt_region=None)]"
      ]
     },
     "execution_count": 5,
     "metadata": {},
     "output_type": "execute_result"
    }
   ],
   "source": [
    "# Verifico que cargue los datos correctamente.\n",
    "geo_tags_rdd.take(5)"
   ]
  },
  {
   "cell_type": "markdown",
   "id": "d77d2622",
   "metadata": {},
   "source": [
    "## Filtro los contenidos que no esten en la tierra"
   ]
  },
  {
   "cell_type": "code",
   "execution_count": 6,
   "id": "124a638c",
   "metadata": {},
   "outputs": [],
   "source": [
    "contenido_fuera_tierra = geo_tags_rdd.filter(lambda x: x.gt_globe != 'earth')"
   ]
  },
  {
   "cell_type": "markdown",
   "id": "3103823c",
   "metadata": {},
   "source": [
    "## Cuento la cantidad de contenido por planeta fuera de tierra"
   ]
  },
  {
   "cell_type": "code",
   "execution_count": 7,
   "id": "ce80b229",
   "metadata": {},
   "outputs": [
    {
     "name": "stderr",
     "output_type": "stream",
     "text": [
      "                                                                                \r"
     ]
    },
    {
     "data": {
      "text/plain": [
       "17"
      ]
     },
     "execution_count": 7,
     "metadata": {},
     "output_type": "execute_result"
    }
   ],
   "source": [
    "contenido_fuera_tierra.map(lambda x: (x.gt_globe,1)).reduceByKey(lambda x,y: x+y).count()"
   ]
  },
  {
   "cell_type": "markdown",
   "id": "9bb3c443",
   "metadata": {},
   "source": [
    "Dado que conozco que hay una cantidad finida de categorias, hago el collect()"
   ]
  },
  {
   "cell_type": "code",
   "execution_count": 8,
   "id": "430676c6",
   "metadata": {},
   "outputs": [
    {
     "name": "stderr",
     "output_type": "stream",
     "text": [
      "                                                                                \r"
     ]
    },
    {
     "data": {
      "text/plain": [
       "[('mercury', 561),\n",
       " ('mars', 1438),\n",
       " ('moon', 9061),\n",
       " ('ganymede', 116),\n",
       " ('venus', 24),\n",
       " ('umbriel', 1),\n",
       " ('titan', 4),\n",
       " ('phobos', 20),\n",
       " ('oberon', 1),\n",
       " ('callisto', 3),\n",
       " ('titania', 2),\n",
       " ('io', 2),\n",
       " ('hyperion', 1),\n",
       " ('deimos', 2),\n",
       " ('tethys', 1),\n",
       " ('mimas', 1),\n",
       " ('enceladus', 1)]"
      ]
     },
     "execution_count": 8,
     "metadata": {},
     "output_type": "execute_result"
    }
   ],
   "source": [
    "contenido_fuera_tierra.map(lambda x: (x.gt_globe,1)).reduceByKey(lambda x,y: x+y).collect()"
   ]
  },
  {
   "cell_type": "code",
   "execution_count": 9,
   "id": "4525f079",
   "metadata": {},
   "outputs": [
    {
     "name": "stderr",
     "output_type": "stream",
     "text": [
      "                                                                                \r"
     ]
    },
    {
     "data": {
      "text/plain": [
       "11239"
      ]
     },
     "execution_count": 9,
     "metadata": {},
     "output_type": "execute_result"
    }
   ],
   "source": [
    "contenido_fuera_tierra.count()"
   ]
  },
  {
   "cell_type": "markdown",
   "id": "98bbfa01",
   "metadata": {},
   "source": [
    "# Conclusion\n",
    "\n",
    "Vemos que existen 11239 articulos con contenido fuera del planeta tierra en la Wikipedia, de los cuales se distribuyen en su mayoria en mercurio, marte y la luna.\n",
    "\n",
    "Para la tabla con datos de todos los contenidos de Wikipedia en su versión más reciente que contiene `contents.csv`, observo que hay contenido para 17 planetas distintos a la tierra con contenido y su distribucion es la siguiente:\n",
    "\n",
    "| n | Planeta | Cantidad de Contenido|\n",
    "|---|---|---|\n",
    "|1 | moon | 9061|\n",
    "|2| mars|1438 |\n",
    "|3|mercury | 561|\n",
    "|4| ganymede| 116|\n",
    "|5| venus| 24|\n",
    "|6 |phobos |20 |\n",
    "|7| titan| 4|\n",
    "|8| callisto| 3|\n",
    "|9| titania| 2|\n",
    "|10|deimos |2 |\n",
    "|11|io |2 |\n",
    "|12| mimas| 1|\n",
    "|13| hyperion| 1|\n",
    "|14|tethys | 1|\n",
    "|15|umbriel | 1|\n",
    "|16|oberon | 1|\n",
    "|17| enceladus| 1|\n",
    "\n",
    "Tenemos un total de 11239 articulos con tag `gt_global` fuera del planeta tierra."
   ]
  }
 ],
 "metadata": {
  "kernelspec": {
   "display_name": "organizacionDatos",
   "language": "python",
   "name": "organizaciondatos"
  },
  "language_info": {
   "codemirror_mode": {
    "name": "ipython",
    "version": 3
   },
   "file_extension": ".py",
   "mimetype": "text/x-python",
   "name": "python",
   "nbconvert_exporter": "python",
   "pygments_lexer": "ipython3",
   "version": "3.9.6"
  },
  "toc": {
   "base_numbering": 1,
   "nav_menu": {},
   "number_sections": true,
   "sideBar": true,
   "skip_h1_title": false,
   "title_cell": "Table of Contents",
   "title_sidebar": "Contents",
   "toc_cell": false,
   "toc_position": {},
   "toc_section_display": true,
   "toc_window_display": false
  }
 },
 "nbformat": 4,
 "nbformat_minor": 5
}
