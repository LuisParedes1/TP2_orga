{
 "cells": [
  {
   "cell_type": "markdown",
   "id": "82194727",
   "metadata": {},
   "source": [
    "# Pregunta 33\n",
    "\n",
    "¿Dónde está la referencia geográfica más repetida en la tierra de toda la Wikipedia Español?\n"
   ]
  },
  {
   "cell_type": "code",
   "execution_count": 1,
   "id": "290799d9",
   "metadata": {},
   "outputs": [],
   "source": [
    "from pyspark.sql import *\n",
    "from pyspark.sql.functions import *\n",
    "from pyspark import SparkContext\n",
    "from pyspark.sql import SQLContext\n",
    "import pandas as pd\n",
    "\n",
    "import os\n",
    "os.environ[\"JAVA_HOME\"] = \"/usr/lib/jvm/java-8-openjdk-amd64\""
   ]
  },
  {
   "cell_type": "code",
   "execution_count": 2,
   "id": "968309dd",
   "metadata": {},
   "outputs": [
    {
     "name": "stderr",
     "output_type": "stream",
     "text": [
      "21/10/30 08:37:38 WARN Utils: Your hostname, Ideapad3 resolves to a loopback address: 127.0.1.1; using 192.168.0.237 instead (on interface wlp0s20f3)\n",
      "21/10/30 08:37:38 WARN Utils: Set SPARK_LOCAL_IP if you need to bind to another address\n",
      "Using Spark's default log4j profile: org/apache/spark/log4j-defaults.properties\n",
      "Setting default log level to \"WARN\".\n",
      "To adjust logging level use sc.setLogLevel(newLevel). For SparkR, use setLogLevel(newLevel).\n",
      "21/10/30 08:37:38 WARN NativeCodeLoader: Unable to load native-hadoop library for your platform... using builtin-java classes where applicable\n",
      "/home/luis/anaconda3/envs/organizacionDatos/lib/python3.9/site-packages/pyspark/sql/context.py:77: FutureWarning: Deprecated in 3.0.0. Use SparkSession.builder.getOrCreate() instead.\n",
      "  warnings.warn(\n"
     ]
    }
   ],
   "source": [
    "# create the Spark Session\n",
    "spark = SparkSession.builder.getOrCreate()\n",
    "\n",
    "# create the Spark Context\n",
    "sc = spark.sparkContext\n",
    "\n",
    "sqlContext = SQLContext(sc)"
   ]
  },
  {
   "cell_type": "code",
   "execution_count": 3,
   "id": "d5b73e64",
   "metadata": {},
   "outputs": [
    {
     "name": "stderr",
     "output_type": "stream",
     "text": [
      "                                                                                \r"
     ]
    }
   ],
   "source": [
    "geo_tags = sqlContext.read.csv('./Wikipedia_dataset_2c2021/geo_tags.csv', \n",
    "                                    header=True, inferSchema=True, multiLine=True)\n",
    "geo_tags_rdd = geo_tags.rdd"
   ]
  },
  {
   "cell_type": "markdown",
   "id": "bd7f9608",
   "metadata": {},
   "source": [
    "## Pasos\n",
    "\n",
    "1. Filtro los contenidos que se encuentran en la tierra.\n",
    "2. Para cada tupla (latitud, longitud) cuento la cantidad de veces que se repite en los articulos de Wikipedia.\n",
    "3. Busco la referencia geografica (tupla (lat,long) ) que tenga mayor numero de articulos."
   ]
  },
  {
   "cell_type": "code",
   "execution_count": 4,
   "id": "66fbf5d8",
   "metadata": {},
   "outputs": [
    {
     "name": "stderr",
     "output_type": "stream",
     "text": [
      "                                                                                \r"
     ]
    },
    {
     "data": {
      "text/plain": [
       "((-30.5, -64.5), 255)"
      ]
     },
     "execution_count": 4,
     "metadata": {},
     "output_type": "execute_result"
    }
   ],
   "source": [
    "geo_tags_rdd.filter(lambda x: x.gt_globe == 'earth')\\\n",
    "            .map(lambda x: ( (x.gt_lat, x.gt_lon), 1) ).reduceByKey(lambda x,y: x+y)\\\n",
    "            .reduce(lambda a,b: a if a[1] > b[1] else b)"
   ]
  },
  {
   "cell_type": "markdown",
   "id": "15c5c454",
   "metadata": {},
   "source": [
    "# Conclusion \n",
    "\n",
    "La referencia geografica de la tierra que mas se repite en el database de Wikipedia en Español es:\n",
    "\n",
    "| | |\n",
    "|---|---|\n",
    "| Latitud | -30.5 | \n",
    "| Longitud | -64.5 |\n",
    "| Planeta  | Tierra"
   ]
  },
  {
   "cell_type": "code",
   "execution_count": 5,
   "id": "0a117f2d",
   "metadata": {},
   "outputs": [
    {
     "name": "stderr",
     "output_type": "stream",
     "text": [
      "                                                                                \r"
     ]
    },
    {
     "data": {
      "text/plain": [
       "Row(gt_id=135261965, gt_page_id=5864596, gt_globe='earth', gt_primary=0, gt_lat=-30.5, gt_lon=-64.5, gt_dim=1000, gt_type=None, gt_name=None, gt_country=None, gt_region=None)"
      ]
     },
     "execution_count": 5,
     "metadata": {},
     "output_type": "execute_result"
    }
   ],
   "source": [
    "geo_tags_rdd.filter(lambda x: x.gt_lat == -30.5 and x.gt_lon == -64.5).first()"
   ]
  },
  {
   "cell_type": "markdown",
   "id": "054d1bf3",
   "metadata": {},
   "source": [
    "Lastimosamente no sabemos a que pais o region pertenece."
   ]
  }
 ],
 "metadata": {
  "kernelspec": {
   "display_name": "organizacionDatos",
   "language": "python",
   "name": "organizaciondatos"
  },
  "language_info": {
   "codemirror_mode": {
    "name": "ipython",
    "version": 3
   },
   "file_extension": ".py",
   "mimetype": "text/x-python",
   "name": "python",
   "nbconvert_exporter": "python",
   "pygments_lexer": "ipython3",
   "version": "3.9.6"
  },
  "toc": {
   "base_numbering": 1,
   "nav_menu": {},
   "number_sections": true,
   "sideBar": true,
   "skip_h1_title": false,
   "title_cell": "Table of Contents",
   "title_sidebar": "Contents",
   "toc_cell": false,
   "toc_position": {},
   "toc_section_display": true,
   "toc_window_display": false
  }
 },
 "nbformat": 4,
 "nbformat_minor": 5
}
