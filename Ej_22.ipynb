{
 "cells": [
  {
   "cell_type": "markdown",
   "id": "bd31a7f4",
   "metadata": {},
   "source": [
    "# Pregunta 22\n",
    "\n",
    "Top 5 de lenguajes que son usados por usuarios bilingües."
   ]
  },
  {
   "cell_type": "code",
   "execution_count": 1,
   "id": "1ccc2054",
   "metadata": {},
   "outputs": [],
   "source": [
    "from pyspark.sql import *\n",
    "from pyspark.sql.functions import *\n",
    "from pyspark import SparkContext\n",
    "from pyspark.sql import SQLContext\n",
    "import pandas as pd\n",
    "\n",
    "import os\n",
    "os.environ[\"JAVA_HOME\"] = \"/usr/lib/jvm/java-8-openjdk-amd64\""
   ]
  },
  {
   "cell_type": "code",
   "execution_count": 2,
   "id": "dbbdf7e0",
   "metadata": {},
   "outputs": [
    {
     "name": "stderr",
     "output_type": "stream",
     "text": [
      "21/10/30 14:00:52 WARN Utils: Your hostname, Ideapad3 resolves to a loopback address: 127.0.1.1; using 192.168.0.237 instead (on interface wlp0s20f3)\n",
      "21/10/30 14:00:52 WARN Utils: Set SPARK_LOCAL_IP if you need to bind to another address\n",
      "Using Spark's default log4j profile: org/apache/spark/log4j-defaults.properties\n",
      "Setting default log level to \"WARN\".\n",
      "To adjust logging level use sc.setLogLevel(newLevel). For SparkR, use setLogLevel(newLevel).\n",
      "21/10/30 14:00:53 WARN NativeCodeLoader: Unable to load native-hadoop library for your platform... using builtin-java classes where applicable\n",
      "/home/luis/anaconda3/envs/organizacionDatos/lib/python3.9/site-packages/pyspark/sql/context.py:77: FutureWarning: Deprecated in 3.0.0. Use SparkSession.builder.getOrCreate() instead.\n",
      "  warnings.warn(\n"
     ]
    }
   ],
   "source": [
    "# create the Spark Session\n",
    "spark = SparkSession.builder.getOrCreate()\n",
    "\n",
    "# create the Spark Context\n",
    "sc = spark.sparkContext\n",
    "\n",
    "sqlContext = SQLContext(sc)"
   ]
  },
  {
   "cell_type": "code",
   "execution_count": 3,
   "id": "bc62ff1a",
   "metadata": {},
   "outputs": [],
   "source": [
    "languages = sqlContext.read.csv('./Wikipedia_dataset_2c2021/languages.csv', \n",
    "                                    header=True, inferSchema=True, multiLine=True)\n",
    "languages_rdd = languages.rdd"
   ]
  },
  {
   "cell_type": "markdown",
   "id": "77d07819",
   "metadata": {},
   "source": [
    "## Filtro los usuarios bilingues\n",
    "\n",
    "Un usuario es Bilingue si conoce 2 idiomas.\n",
    "\n",
    "Cuento la cantidad de idiomas que usa cada usuario y luego filtro unicamente aquellos usuarios que son bilingues."
   ]
  },
  {
   "cell_type": "code",
   "execution_count": 4,
   "id": "c78cd135",
   "metadata": {},
   "outputs": [],
   "source": [
    "usuarios_bilingues = languages_rdd.map(lambda x: (x.babel_user,1)).reduceByKey(lambda x,y: x+y)\\\n",
    "            .filter(lambda x: x[1]==2)"
   ]
  },
  {
   "cell_type": "code",
   "execution_count": 5,
   "id": "ea7966dd",
   "metadata": {},
   "outputs": [
    {
     "name": "stderr",
     "output_type": "stream",
     "text": [
      "                                                                                \r"
     ]
    },
    {
     "data": {
      "text/plain": [
       "[(1801431, 2), (1724336, 2), (1725400, 2), (674716, 2), (4334792, 2)]"
      ]
     },
     "execution_count": 5,
     "metadata": {},
     "output_type": "execute_result"
    }
   ],
   "source": [
    "usuarios_bilingues.take(5)"
   ]
  },
  {
   "cell_type": "markdown",
   "id": "50a79785",
   "metadata": {},
   "source": [
    "## Analizo los idiomas que usan los usuarios bilingues\n",
    "\n",
    "Del RDD de languages filtro los usuarios bilingues y determino los idiomas mas populares entre estos usuarios."
   ]
  },
  {
   "cell_type": "code",
   "execution_count": 6,
   "id": "dea543b7",
   "metadata": {},
   "outputs": [
    {
     "data": {
      "text/plain": [
       "[('es', 3054), ('en', 2944), ('fr', 56), ('ca', 54), ('pt', 22)]"
      ]
     },
     "execution_count": 6,
     "metadata": {},
     "output_type": "execute_result"
    }
   ],
   "source": [
    "languages_rdd.join(usuarios_bilingues).map(lambda x: (x[1][0],1)).reduceByKey(lambda x,y: x+y).\\\n",
    "            takeOrdered(5, lambda x: -x[1])"
   ]
  },
  {
   "cell_type": "markdown",
   "id": "303810ad",
   "metadata": {},
   "source": [
    "# Conclusion\n",
    "\n",
    "Observamos que los 5 idiomas mas hablados por los usuarios bilingues de Wikipedia son:\n",
    "\n",
    "| Idioma | Cantidad de Usuarios | \n",
    "|--------------|-----------|\n",
    "| Es |  3054 |\n",
    "| En | 2944  |\n",
    "| Fr | 56  |\n",
    "| Ca | 54  |\n",
    "| Pt | 22  |\n",
    "\n",
    "Vemos que una mayoria de los usuarios bilingues dominan el ingles y español. \n",
    "\n",
    "Esto hace sentido pues gran parte de la comunidad hispano hablante termina dominando el ingles por razones laburales, academicas u otro motivo, antes que cualquier otro idioma."
   ]
  }
 ],
 "metadata": {
  "kernelspec": {
   "display_name": "Python 3 (ipykernel)",
   "language": "python",
   "name": "python3"
  },
  "language_info": {
   "codemirror_mode": {
    "name": "ipython",
    "version": 3
   },
   "file_extension": ".py",
   "mimetype": "text/x-python",
   "name": "python",
   "nbconvert_exporter": "python",
   "pygments_lexer": "ipython3",
   "version": "3.9.6"
  },
  "toc": {
   "base_numbering": 1,
   "nav_menu": {},
   "number_sections": true,
   "sideBar": true,
   "skip_h1_title": false,
   "title_cell": "Table of Contents",
   "title_sidebar": "Contents",
   "toc_cell": false,
   "toc_position": {},
   "toc_section_display": true,
   "toc_window_display": false
  }
 },
 "nbformat": 4,
 "nbformat_minor": 5
}
